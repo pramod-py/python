{
  "nbformat": 4,
  "nbformat_minor": 0,
  "metadata": {
    "colab": {
      "name": "Email Sending.ipynb",
      "provenance": [],
      "authorship_tag": "ABX9TyPURLUfoXrcycsBl3CpqddK",
      "include_colab_link": true
    },
    "kernelspec": {
      "name": "python3",
      "display_name": "Python 3"
    }
  },
  "cells": [
    {
      "cell_type": "markdown",
      "metadata": {
        "id": "view-in-github",
        "colab_type": "text"
      },
      "source": [
        "<a href=\"https://colab.research.google.com/github/pramod-sanghavi/python/blob/master/Email_Sending.ipynb\" target=\"_parent\"><img src=\"https://colab.research.google.com/assets/colab-badge.svg\" alt=\"Open In Colab\"/></a>"
      ]
    },
    {
      "cell_type": "markdown",
      "metadata": {
        "id": "WzyFsK4GmAlI"
      },
      "source": [
        "Python Program to Send an email "
      ]
    },
    {
      "cell_type": "code",
      "metadata": {
        "id": "3JCWNdajAj41"
      },
      "source": [
        "import smtplib, ssl"
      ],
      "execution_count": 10,
      "outputs": []
    },
    {
      "cell_type": "code",
      "metadata": {
        "id": "AxzNexk7jSPu"
      },
      "source": [
        "#Author Pramod S Sanghavi\r\n",
        "gmail_user = \"me@gmail.com\"\r\n",
        "gmail_pwd = \"password\"\r\n",
        "TO = 'friend@gmail.com'\r\n",
        "SUBJECT = \"Testing sending using gmail\"\r\n",
        "TEXT = \"Testing sending mail using gmail servers with python\"\r\n",
        "server = smtplib.SMTP_SSL('smtp.googlemail.com', 465)\r\n",
        "server.login(gmail_user, gmail_pwd)\r\n",
        "server.sendmail(gmail_user, TO, BODY)\r\n",
        "print ('email sent')"
      ],
      "execution_count": null,
      "outputs": []
    }
  ]
}