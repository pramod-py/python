{
 "cells": [
  {
   "cell_type": "code",
   "execution_count": 3,
   "metadata": {},
   "outputs": [],
   "source": [
    "#Python Program to Connect android \n",
    "#camera to Python using OpenCV\n",
    "#### Instagram @pyadda #######\n",
    "import cv2 \n",
    "import numpy as np\n",
    "url = 'http://10.9.29.24:8080/video'\n",
    "cap = cv2.VideoCapture(url)\n",
    "while(True):\n",
    "    ret, frame = cap.read()\n",
    "    if frame is not None:\n",
    "        cv2.imshow('frame',frame)\n",
    "    esc = cv2.waitKey(1)\n",
    "    if esc == 27: #press ESC Key to Exit\n",
    "        break\n",
    "cap.release()\n",
    "cv2.destroyAllWindows()"
   ]
  },
  {
   "cell_type": "code",
   "execution_count": null,
   "metadata": {},
   "outputs": [],
   "source": []
  }
 ],
 "metadata": {
  "kernelspec": {
   "display_name": "Python 3",
   "language": "python",
   "name": "python3"
  }
 },
 "nbformat": 4,
 "nbformat_minor": 4
}
